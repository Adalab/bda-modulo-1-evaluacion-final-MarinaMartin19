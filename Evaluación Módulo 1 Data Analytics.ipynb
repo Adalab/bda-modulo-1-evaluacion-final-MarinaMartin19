{
 "cells": [
  {
   "cell_type": "code",
   "execution_count": null,
   "id": "e2bab753",
   "metadata": {},
   "outputs": [],
   "source": [
    "# Definir las siguientes estructuras:\n",
    "\n",
    "\n",
    "# 1. Inventario (lista de diccionarios)\n",
    "\n",
    "# 2. Clientes  (diccionario)\n",
    "\n",
    "# 3. Ventas totales (float)\n",
    "\n",
    "\n",
    "inventario = []\n",
    "\n",
    "clientes = {}\n",
    "\n",
    "ventas_totales = 0.0"
   ]
  },
  {
   "cell_type": "code",
   "execution_count": 3,
   "id": "7ab3bcd1",
   "metadata": {},
   "outputs": [],
   "source": [
    "inventario = [\n",
    "    {\"nombre\": \"camisa\", \"precio\": 20.0, \"cantidad\": 5},\n",
    "    {\"nombre\": \"pantalon\", \"precio\": 30.0, \"cantidad\": 3},\n",
    "    {\"nombre\": \"zapatos\", \"precio\": 50.0, \"cantidad\" : 2}\n",
    "\n",
    "\n",
    "\n",
    "]"
   ]
  },
  {
   "cell_type": "code",
   "execution_count": 9,
   "id": "e0be5840",
   "metadata": {},
   "outputs": [
    {
     "name": "stdout",
     "output_type": "stream",
     "text": [
      "Inventario actual:\n",
      "Nombre: camisa\n",
      "Precio: 20.0\n",
      "Cantidad: 5\n",
      "--------------\n",
      "Nombre: pantalon\n",
      "Precio: 30.0\n",
      "Cantidad: 3\n",
      "--------------\n",
      "Nombre: zapatos\n",
      "Precio: 50.0\n",
      "Cantidad: 2\n",
      "--------------\n"
     ]
    }
   ],
   "source": [
    "# Función para ver el inventario\n",
    "\n",
    "def ver_inventario():\n",
    "    print(\"Inventario actual:\")\n",
    "    for producto in inventario:\n",
    "        print(\"Nombre:\", producto[\"nombre\"])\n",
    "        print(\"Precio:\", producto[\"precio\"])\n",
    "        print(\"Cantidad:\", producto[\"cantidad\"])\n",
    "        print(\"--------------\")\n",
    "\n",
    "ver_inventario()"
   ]
  },
  {
   "cell_type": "code",
   "execution_count": 10,
   "id": "e13b96c3",
   "metadata": {},
   "outputs": [],
   "source": [
    "# Función para agregar un producto\n",
    "\n",
    "def agregar_producto(nombre, precio, cantidad): \n",
    "    nuevo = {\"nombre\": nombre, \"precio\": precio, \"cantidad\": cantidad}\n",
    "    inventario.append(nuevo)\n",
    "    print(\"Producto introducido correctamente.\")\n",
    "\n",
    "    agregar_producto(\"Calcetines\", 5.0, 10)"
   ]
  },
  {
   "cell_type": "code",
   "execution_count": null,
   "id": "d5b78a04",
   "metadata": {},
   "outputs": [],
   "source": [
    "# Función para buscar un producto\n",
    "\n",
    "def buscar_producto(nombre):\n",
    "    encontrado = False\n",
    "    for producto in inventario:\n",
    "        if producto[\"nombre\"].lower() == nombre.lower():\n",
    "            print(\"Producto encontrado:\")\n",
    "            print(\"Nombre\", producto[\"nombre\"])\n",
    "            print(\"Precio\", producto[\"precio\"])\n",
    "            print(\"Cantidad\", producto[\"cantidad\"])\n",
    "            encontrado = True\n",
    "            break\n",
    "    if not encontrado:\n",
    "        print(\"No se encontró el producto\")\n",
    "\n"
   ]
  },
  {
   "cell_type": "code",
   "execution_count": 17,
   "id": "daed1a73",
   "metadata": {},
   "outputs": [
    {
     "name": "stdout",
     "output_type": "stream",
     "text": [
      "Producto encontrado:\n",
      "Nombre camisa\n",
      "Precio 20.0\n",
      "Cantidad 5\n"
     ]
    }
   ],
   "source": [
    "buscar_producto(\"camisa\")"
   ]
  },
  {
   "cell_type": "code",
   "execution_count": 31,
   "id": "1d8262c2",
   "metadata": {},
   "outputs": [],
   "source": [
    "# Función para calcular el valor total del inventario\n",
    "\n",
    "def calcular_valor_inventario():\n",
    "    total = 0 \n",
    "    for producto in inventario:\n",
    "        total = total + (producto[\"precio\"]* producto[\"cantidad\"])\n",
    "    print(\"El valor total del inventario es:\", total, \"€\")\n",
    "\n"
   ]
  },
  {
   "cell_type": "code",
   "execution_count": 32,
   "id": "30788907",
   "metadata": {},
   "outputs": [
    {
     "name": "stdout",
     "output_type": "stream",
     "text": [
      "El valor total del inventario es: 290.0 €\n"
     ]
    }
   ],
   "source": [
    "calcular_valor_inventario()"
   ]
  },
  {
   "cell_type": "code",
   "execution_count": 34,
   "id": "d5fbd0d2",
   "metadata": {},
   "outputs": [
    {
     "name": "stdout",
     "output_type": "stream",
     "text": [
      "Bienvenid@ al sistema de inventario. \n",
      "\n",
      "Inventario actual\n",
      "Nombre: camisa\n",
      "Precio: 20.0\n",
      "Cantidad: 5\n",
      "--------------\n",
      "Nombre: pantalon\n",
      "Precio: 30.0\n",
      "Cantidad: 3\n",
      "--------------\n",
      "Nombre: zapatos\n",
      "Precio: 50.0\n",
      "Cantidad: 2\n",
      "--------------\n",
      "\n",
      "--- Agregamos un nuevo producto ---\n",
      "Producto introducido correctamente.\n",
      "\n",
      "--- Buscamos un producto ---\n",
      "Producto encontrado:\n",
      "Nombre camisa\n",
      "Precio 20.0\n",
      "Cantidad 5\n",
      "\n",
      "--- Calculamos el valor total ---\n",
      "El valor total del inventario es: 340.0 €\n"
     ]
    }
   ],
   "source": [
    "# Programa completo\n",
    "\n",
    "# Inventario Inicial\n",
    "\n",
    "inventario = [\n",
    "    {\"nombre\": \"camisa\", \"precio\": 20.0, \"cantidad\": 5},\n",
    "    {\"nombre\": \"pantalon\", \"precio\": 30.0, \"cantidad\": 3},\n",
    "    {\"nombre\": \"zapatos\", \"precio\": 50.0, \"cantidad\" : 2}\n",
    "]\n",
    "\n",
    "# Función 1 : Ver Inventario.\n",
    "\n",
    "def ver_inventario ():\n",
    "    print(\"Inventario actual\")\n",
    "    for producto in inventario:\n",
    "        print(\"Nombre:\", producto[\"nombre\"])\n",
    "        print(\"Precio:\", producto[\"precio\"])\n",
    "        print(\"Cantidad:\", producto[\"cantidad\"])\n",
    "        print(\"--------------\")\n",
    "\n",
    "# Función 2: Agregar producto.\n",
    "\n",
    "def agregar_producto(nombre, precio, cantidad): \n",
    "    nuevo = {\"nombre\": nombre, \"precio\": precio, \"cantidad\": cantidad}\n",
    "    inventario.append(nuevo)\n",
    "    print(\"Producto introducido correctamente.\")\n",
    "\n",
    "\n",
    "# Función 3: Buscar producto.\n",
    "\n",
    "def buscar_producto(nombre):\n",
    "    encontrado = False\n",
    "    for producto in inventario:\n",
    "        if producto[\"nombre\"].lower() == nombre.lower():\n",
    "            print(\"Producto encontrado:\")\n",
    "            print(\"Nombre\", producto[\"nombre\"])\n",
    "            print(\"Precio\", producto[\"precio\"])\n",
    "            print(\"Cantidad\", producto[\"cantidad\"])\n",
    "            encontrado = True\n",
    "            break\n",
    "    if not encontrado:\n",
    "        print(\"No se encontró el producto\")\n",
    "\n",
    "\n",
    "# Función 4: Calcular valor total\n",
    "def calcular_valor_inventario():\n",
    "    total = 0\n",
    "    for producto in inventario:\n",
    "        total = total + (producto[\"precio\"] * producto[\"cantidad\"])\n",
    "    print(\"El valor total del inventario es:\", total, \"€\")\n",
    "\n",
    "\n",
    "# ===== Programa Principal =====\n",
    "print(\"Bienvenid@ al sistema de inventario. \\n\")\n",
    "\n",
    "ver_inventario()\n",
    "print(\"\\n--- Agregamos un nuevo producto ---\")\n",
    "agregar_producto(\"Calcetines\", 5.0, 10)\n",
    "\n",
    "print(\"\\n--- Buscamos un producto ---\")\n",
    "buscar_producto(\"Camisa\")\n",
    "\n",
    "\n",
    "print(\"\\n--- Calculamos el valor total ---\")\n",
    "calcular_valor_inventario()\n"
   ]
  },
  {
   "cell_type": "code",
   "execution_count": null,
   "id": "408978bb",
   "metadata": {},
   "outputs": [],
   "source": []
  }
 ],
 "metadata": {
  "kernelspec": {
   "display_name": "Python 3",
   "language": "python",
   "name": "python3"
  },
  "language_info": {
   "codemirror_mode": {
    "name": "ipython",
    "version": 3
   },
   "file_extension": ".py",
   "mimetype": "text/x-python",
   "name": "python",
   "nbconvert_exporter": "python",
   "pygments_lexer": "ipython3",
   "version": "3.13.7"
  }
 },
 "nbformat": 4,
 "nbformat_minor": 5
}
