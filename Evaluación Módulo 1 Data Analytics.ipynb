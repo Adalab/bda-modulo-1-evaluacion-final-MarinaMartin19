{
 "cells": [
  {
   "cell_type": "code",
   "execution_count": 78,
   "id": "e2bab753",
   "metadata": {},
   "outputs": [],
   "source": [
    "#### 1. Definir las siguientes estructuras:\n",
    "\n",
    "\n",
    "# 1. Inventario (lista de diccionarios)\n",
    "\n",
    "# 2. Clientes  (diccionario)\n",
    "\n",
    "# 3. Ventas totales (float)\n",
    "\n",
    "\n",
    "inventario = []\n",
    "\n",
    "clientes = {}\n",
    "\n",
    "ventas_totales = 0.0"
   ]
  },
  {
   "cell_type": "code",
   "execution_count": 79,
   "id": "7ab3bcd1",
   "metadata": {},
   "outputs": [],
   "source": [
    "# 1. inventario (lista de diccionarios): Cada producto debe ser representado como un diccionario con las siguientes claves: 'nombre','precio', y 'cantidad'.\n",
    "\n",
    "inventario = [\n",
    "    {\"nombre\": \"camisa\", \"precio\": 20.0, \"cantidad\": 5},\n",
    "    {\"nombre\": \"pantalon\", \"precio\": 30.0, \"cantidad\": 3},\n",
    "    {\"nombre\": \"zapatos\", \"precio\": 50.0, \"cantidad\" : 2}\n",
    "\n",
    "\n",
    "\n",
    "]"
   ]
  },
  {
   "cell_type": "code",
   "execution_count": 80,
   "id": "e0be5840",
   "metadata": {},
   "outputs": [
    {
     "name": "stdout",
     "output_type": "stream",
     "text": [
      "Inventario actual:\n",
      "Nombre: camisa\n",
      "Precio: 20.0\n",
      "Cantidad: 5\n",
      "--------------\n",
      "Nombre: pantalon\n",
      "Precio: 30.0\n",
      "Cantidad: 3\n",
      "--------------\n",
      "Nombre: zapatos\n",
      "Precio: 50.0\n",
      "Cantidad: 2\n",
      "--------------\n"
     ]
    }
   ],
   "source": [
    "#### 2. Funciones\n",
    "\n",
    "\n",
    "# 1. Función para ver el inventario, con nombre, precio, cantidad.\n",
    "\n",
    "def ver_inventario():\n",
    "    print(\"Inventario actual:\")\n",
    "    for producto in inventario:\n",
    "        print(\"Nombre:\", producto[\"nombre\"])\n",
    "        print(\"Precio:\", producto[\"precio\"])\n",
    "        print(\"Cantidad:\", producto[\"cantidad\"])\n",
    "        print(\"--------------\")\n",
    "\n",
    "ver_inventario()"
   ]
  },
  {
   "cell_type": "code",
   "execution_count": 81,
   "id": "e13b96c3",
   "metadata": {},
   "outputs": [],
   "source": [
    "# 2. Función para agregar un producto\n",
    "\n",
    "def agregar_producto(nombre, precio, cantidad): \n",
    "    nuevo = {\"nombre\": nombre, \"precio\": precio, \"cantidad\": cantidad}\n",
    "    inventario.append(nuevo)\n",
    "    print(\"Producto introducido correctamente.\")\n",
    "\n",
    "    agregar_producto(\"Calcetines\", 5.0, 10)"
   ]
  },
  {
   "cell_type": "code",
   "execution_count": 82,
   "id": "d5b78a04",
   "metadata": {},
   "outputs": [],
   "source": [
    "# 3 .Función para buscar un producto por su nombre y muestre sus datos.\n",
    "\n",
    "def buscar_producto(nombre):\n",
    "    encontrado = False\n",
    "    for producto in inventario:\n",
    "        if producto[\"nombre\"].lower() == nombre.lower():\n",
    "            print(\"Producto encontrado:\")\n",
    "            print(\"Nombre\", producto[\"nombre\"])\n",
    "            print(\"Precio\", producto[\"precio\"])\n",
    "            print(\"Cantidad\", producto[\"cantidad\"])\n",
    "            encontrado = True\n",
    "            break\n",
    "    if not encontrado:\n",
    "        print(\"No se encontró el producto\")\n",
    "\n"
   ]
  },
  {
   "cell_type": "code",
   "execution_count": 83,
   "id": "daed1a73",
   "metadata": {},
   "outputs": [
    {
     "name": "stdout",
     "output_type": "stream",
     "text": [
      "Producto encontrado:\n",
      "Nombre camisa\n",
      "Precio 20.0\n",
      "Cantidad 5\n"
     ]
    }
   ],
   "source": [
    "buscar_producto(\"camisa\")"
   ]
  },
  {
   "cell_type": "code",
   "execution_count": 84,
   "id": "f1c70163",
   "metadata": {},
   "outputs": [],
   "source": [
    "# 4. Actualizar stock (nombre,cantidad), de un producto. Si el producto no existe, muestra mensaje aviso.\n",
    "\n",
    "def actualizar_stock(nombre, cantidad):\n",
    "    for producto in inventario:\n",
    "        if producto [\"nombre\"] == nombre:\n",
    "            producto[\"cantidad\"] += cantidad\n",
    "            print(\"stock actualizado\")\n",
    "            return\n",
    "        \n",
    "    print(\"Producto no encontrado\")    \n",
    "        "
   ]
  },
  {
   "cell_type": "code",
   "execution_count": 85,
   "id": "ae87527f",
   "metadata": {},
   "outputs": [
    {
     "name": "stdout",
     "output_type": "stream",
     "text": [
      "stock actualizado\n",
      "stock actualizado\n",
      "stock actualizado\n"
     ]
    }
   ],
   "source": [
    "# Actualicemos el stock:\n",
    "\n",
    "actualizar_stock(\"camisa\", 5)\n",
    "actualizar_stock(\"pantalon\", -2)\n",
    "actualizar_stock(\"zapatos\", 3)"
   ]
  },
  {
   "cell_type": "code",
   "execution_count": 86,
   "id": "1fab2f40",
   "metadata": {},
   "outputs": [],
   "source": [
    "# 5. Eliminar un producto del stock\n",
    "\n",
    "def eliminar_producto(nombre):\n",
    "    for producto in inventario:\n",
    "        if producto[\"nombre\"] == nombre:\n",
    "            inventario.remove(producto)\n",
    "            print(\"Producto eliminado\")\n",
    "            return\n",
    "    print(\"Producto no encontrado\")"
   ]
  },
  {
   "cell_type": "code",
   "execution_count": 87,
   "id": "e30ff125",
   "metadata": {},
   "outputs": [
    {
     "name": "stdout",
     "output_type": "stream",
     "text": [
      "Producto no encontrado\n",
      "Producto eliminado\n"
     ]
    }
   ],
   "source": [
    "eliminar_producto(\"calcetines\")\n",
    "eliminar_producto(\"camisa\")"
   ]
  },
  {
   "cell_type": "code",
   "execution_count": 88,
   "id": "1d8262c2",
   "metadata": {},
   "outputs": [],
   "source": [
    "# 6. Función para calcular el valor total del inventario\n",
    "\n",
    "def calcular_valor_inventario():\n",
    "    total = 0 \n",
    "    for producto in inventario:\n",
    "        total = total + (producto[\"precio\"]* producto[\"cantidad\"])\n",
    "    print(\"El valor total del inventario es:\", total, \"€\")\n",
    "\n"
   ]
  },
  {
   "cell_type": "code",
   "execution_count": 89,
   "id": "30788907",
   "metadata": {},
   "outputs": [
    {
     "name": "stdout",
     "output_type": "stream",
     "text": [
      "El valor total del inventario es: 280.0 €\n"
     ]
    }
   ],
   "source": [
    "calcular_valor_inventario()"
   ]
  },
  {
   "cell_type": "code",
   "execution_count": 90,
   "id": "1a043c1c",
   "metadata": {},
   "outputs": [
    {
     "name": "stdout",
     "output_type": "stream",
     "text": [
      "\n",
      " === RESUMEN DE COMPRA ===\n",
      "\n",
      "TOTAL A PAGAR: 0€\n"
     ]
    }
   ],
   "source": [
    "# 7. Realizar compra\n",
    "\n",
    "total = 0\n",
    "carrito = []\n",
    "\n",
    "def realizar_compra ():\n",
    "\n",
    "    total= 0\n",
    "    carrito = []\n",
    "\n",
    "    print(\"\\n === REALIZAR COMPRA ===\")\n",
    "    print(\"Productos disponibles: \\n\")\n",
    "    for producto in inventario:\n",
    "        print(f\"{producto[\"nombre\"]}) - Precio: {producto[\"precio\"]} - stock: {producto[\"cantidad\"]}\")\n",
    "\n",
    "    while True:\n",
    "        nombre = input(\"Introduce el nombre del producto o fin para terminar): \")\n",
    "\n",
    "        if nombre == \"fin\":\n",
    "            break\n",
    "\n",
    "\n",
    "\n",
    "    # Buscar el producto:\n",
    "\n",
    "        for producto in inventario:\n",
    "            if producto[\"nombre\"] == nombre:\n",
    "                cantidad = int(input(f\"Cuantas unidades de {nombre} quieres comprar? \"))\n",
    "\n",
    "\n",
    "         # Comprobar si hay suficiente stock:\n",
    "\n",
    "                if cantidad <= producto [\"cantidad\"]:\n",
    "                 subtotal = producto[\"precio\"] * cantidad\n",
    "                 producto [\"cantidad\"] -= cantidad\n",
    "                 total += subtotal\n",
    "                 carrito.append((nombre, cantidad, subtotal))\n",
    "                 print(f\"Agregado al carrito: {nombre} x{cantidad} --{subtotal}€\")\n",
    "\n",
    "            else:\n",
    "                print(\"No hay suficiente stock disponible\")\n",
    "                break\n",
    "\n",
    "        else:\n",
    "            print(\"Producto no encontrado\")\n",
    "\n",
    "\n",
    "print(\"\\n === RESUMEN DE COMPRA ===\")\n",
    "\n",
    "for item in carrito:\n",
    "    print(f\"{iten[0]} x{item[1]} --{item[2]}\")\n",
    "\n",
    "print(f\"\\nTOTAL A PAGAR: {total}€\")\n",
    "\n",
    "\n"
   ]
  },
  {
   "cell_type": "code",
   "execution_count": 95,
   "id": "d5fbd0d2",
   "metadata": {},
   "outputs": [
    {
     "name": "stdout",
     "output_type": "stream",
     "text": [
      "\n",
      " === RESUMEN DE COMPRA ===\n",
      "\n",
      "TOTAL A PAGAR: 0€\n"
     ]
    }
   ],
   "source": [
    "# Programa completo\n",
    "\n",
    "# Inventario Inicial\n",
    "\n",
    "inventario = [\n",
    "    {\"nombre\": \"camisa\", \"precio\": 20.0, \"cantidad\": 5},\n",
    "    {\"nombre\": \"pantalon\", \"precio\": 30.0, \"cantidad\": 3},\n",
    "    {\"nombre\": \"zapatos\", \"precio\": 50.0, \"cantidad\" : 2}\n",
    "]\n",
    "\n",
    "# Función 1 : Ver Inventario.\n",
    "\n",
    "def ver_inventario ():\n",
    "    print(\"Inventario actual\")\n",
    "    for producto in inventario:\n",
    "        print(\"Nombre:\", producto[\"nombre\"])\n",
    "        print(\"Precio:\", producto[\"precio\"])\n",
    "        print(\"Cantidad:\", producto[\"cantidad\"])\n",
    "        print(\"--------------\")\n",
    "\n",
    "# Función 2: Agregar producto.\n",
    "\n",
    "def agregar_producto(nombre, precio, cantidad): \n",
    "    nuevo = {\"nombre\": nombre, \"precio\": precio, \"cantidad\": cantidad}\n",
    "    inventario.append(nuevo)\n",
    "    print(\"Producto introducido correctamente.\")\n",
    "\n",
    "\n",
    "# Función 3: Buscar producto.\n",
    "\n",
    "def buscar_producto(nombre):\n",
    "    encontrado = False\n",
    "    for producto in inventario:\n",
    "        if producto[\"nombre\"].lower() == nombre.lower():\n",
    "            print(\"Producto encontrado:\")\n",
    "            print(\"Nombre\", producto[\"nombre\"])\n",
    "            print(\"Precio\", producto[\"precio\"])\n",
    "            print(\"Cantidad\", producto[\"cantidad\"])\n",
    "            encontrado = True\n",
    "            break\n",
    "    if not encontrado:\n",
    "        print(\"No se encontró el producto\")\n",
    "\n",
    "\n",
    "# Función 4: Actualizar el stock\n",
    "\n",
    "def actualizar_stock(nombre, cantidad):\n",
    "    for producto in inventario:\n",
    "        if producto [\"nombre\"] == nombre:\n",
    "            producto[\"cantidad\"] += cantidad\n",
    "            print(\"stock actualizado\")\n",
    "            return\n",
    "        \n",
    "    print(\"Producto no encontrado\")    \n",
    "\n",
    "# Función 5: Eliminar producto del stock\n",
    "\n",
    "def eliminar_producto(nombre):\n",
    "    for producto in inventario:\n",
    "        if producto[\"nombre\"] == nombre:\n",
    "            inventario.remove(producto)\n",
    "            print(\"Producto eliminado\")\n",
    "            return\n",
    "    print(\"Producto no encontrado\")\n",
    "\n",
    "\n",
    "# Función 6: Calcular valor total\n",
    "def calcular_valor_inventario():\n",
    "    total = 0\n",
    "    for producto in inventario:\n",
    "        total = total + (producto[\"precio\"] * producto[\"cantidad\"])\n",
    "    print(\"El valor total del inventario es:\", total, \"€\")\n",
    "\n",
    "\n",
    "# Función 7: Realizar Compra\n",
    "\n",
    "def realizar_compra ():\n",
    "\n",
    "    total= 0\n",
    "    carrito = []\n",
    "\n",
    "    print(\"\\n === REALIZAR COMPRA ===\")\n",
    "    print(\"Productos disponibles: \\n\")\n",
    "    for producto in inventario:\n",
    "        print(f\"{producto[\"nombre\"]}) - Precio: {producto[\"precio\"]} - stock: {producto[\"cantidad\"]}\")\n",
    "\n",
    "    while True:\n",
    "        nombre = input(\"Introduce el nombre del producto o fin para terminar): \")\n",
    "\n",
    "        if nombre == \"fin\":\n",
    "            break\n",
    "\n",
    "\n",
    "\n",
    "    # Buscar el producto:\n",
    "\n",
    "        for producto in inventario:\n",
    "            if producto[\"nombre\"] == nombre:\n",
    "                cantidad = int(input(f\"Cuantas unidades de {nombre} quieres comprar? \"))\n",
    "\n",
    "\n",
    "         # Comprobar si hay suficiente stock:\n",
    "\n",
    "                if cantidad <= producto [\"cantidad\"]:\n",
    "                 subtotal = producto[\"precio\"] * cantidad\n",
    "                 producto [\"cantidad\"] -= cantidad\n",
    "                 total += subtotal\n",
    "                 carrito.append((nombre, cantidad, subtotal))\n",
    "                 print(f\"Agregado al carrito: {nombre} x{cantidad} --{subtotal}€\")\n",
    "\n",
    "            else:\n",
    "                print(\"No hay suficiente stock disponible\")\n",
    "                break\n",
    "\n",
    "        else:\n",
    "            print(\"Producto no encontrado\")\n",
    "\n",
    "\n",
    "print(\"\\n === RESUMEN DE COMPRA ===\")\n",
    "\n",
    "for item in carrito:\n",
    "    print(f\"{iten[0]} x{item[1]} --{item[2]}\")\n",
    "\n",
    "print(f\"\\nTOTAL A PAGAR: {total}€\")\n",
    "\n"
   ]
  },
  {
   "cell_type": "code",
   "execution_count": 96,
   "id": "6b76cd46",
   "metadata": {},
   "outputs": [
    {
     "name": "stdout",
     "output_type": "stream",
     "text": [
      "Bienvenid@ al sistema de inventario. \n",
      "\n",
      "Inventario actual\n",
      "Nombre: camisa\n",
      "Precio: 20.0\n",
      "Cantidad: 5\n",
      "--------------\n",
      "Nombre: pantalon\n",
      "Precio: 30.0\n",
      "Cantidad: 3\n",
      "--------------\n",
      "Nombre: zapatos\n",
      "Precio: 50.0\n",
      "Cantidad: 2\n",
      "--------------\n"
     ]
    }
   ],
   "source": [
    "# ===== Programa Principal =====\n",
    "\n",
    "print(\"Bienvenid@ al sistema de inventario. \\n\")\n",
    "ver_inventario()\n",
    "\n"
   ]
  },
  {
   "cell_type": "code",
   "execution_count": 97,
   "id": "e72f457d",
   "metadata": {},
   "outputs": [
    {
     "name": "stdout",
     "output_type": "stream",
     "text": [
      "\n",
      "--- Inventario final después de la compra ---\n",
      "Inventario actual\n",
      "Nombre: camisa\n",
      "Precio: 20.0\n",
      "Cantidad: 5\n",
      "--------------\n",
      "Nombre: pantalon\n",
      "Precio: 30.0\n",
      "Cantidad: 3\n",
      "--------------\n",
      "Nombre: zapatos\n",
      "Precio: 50.0\n",
      "Cantidad: 2\n",
      "--------------\n"
     ]
    }
   ],
   "source": [
    "print(\"\\n--- Inventario final después de la compra ---\")\n",
    "ver_inventario()\n",
    "\n"
   ]
  },
  {
   "cell_type": "code",
   "execution_count": 98,
   "id": "c966d21c",
   "metadata": {},
   "outputs": [
    {
     "name": "stdout",
     "output_type": "stream",
     "text": [
      "\n",
      "--- Agregamos un nuevo producto ---\n",
      "Producto introducido correctamente.\n"
     ]
    }
   ],
   "source": [
    "print(\"\\n--- Agregamos un nuevo producto ---\")\n",
    "agregar_producto(\"Calcetines\", 5.0, 10)\n",
    "\n",
    "\n"
   ]
  },
  {
   "cell_type": "code",
   "execution_count": 99,
   "id": "48c89059",
   "metadata": {},
   "outputs": [
    {
     "name": "stdout",
     "output_type": "stream",
     "text": [
      "\n",
      "--- Buscamos un producto ---\n",
      "Producto encontrado:\n",
      "Nombre camisa\n",
      "Precio 20.0\n",
      "Cantidad 5\n"
     ]
    }
   ],
   "source": [
    "print(\"\\n--- Buscamos un producto ---\")\n",
    "buscar_producto(\"Camisa\")\n"
   ]
  },
  {
   "cell_type": "code",
   "execution_count": 100,
   "id": "be1ae5c7",
   "metadata": {},
   "outputs": [
    {
     "name": "stdout",
     "output_type": "stream",
     "text": [
      "\n",
      "--- Actualizamos el stock ---\n",
      "stock actualizado\n",
      "stock actualizado\n",
      "Inventario actual\n",
      "Nombre: camisa\n",
      "Precio: 20.0\n",
      "Cantidad: 10\n",
      "--------------\n",
      "Nombre: pantalon\n",
      "Precio: 30.0\n",
      "Cantidad: 1\n",
      "--------------\n",
      "Nombre: zapatos\n",
      "Precio: 50.0\n",
      "Cantidad: 2\n",
      "--------------\n",
      "Nombre: Calcetines\n",
      "Precio: 5.0\n",
      "Cantidad: 10\n",
      "--------------\n"
     ]
    }
   ],
   "source": [
    "print(\"\\n--- Actualizamos el stock ---\")\n",
    "actualizar_stock(\"camisa\", 5)\n",
    "actualizar_stock(\"pantalon\", -2)\n",
    "ver_inventario()\n"
   ]
  },
  {
   "cell_type": "code",
   "execution_count": 101,
   "id": "de943784",
   "metadata": {},
   "outputs": [
    {
     "name": "stdout",
     "output_type": "stream",
     "text": [
      "\n",
      "--- Calculamos el valor total del inventario ---\n",
      "El valor total del inventario es: 380.0 €\n"
     ]
    }
   ],
   "source": [
    "print(\"\\n--- Calculamos el valor total del inventario ---\")\n",
    "calcular_valor_inventario()\n",
    "\n"
   ]
  },
  {
   "cell_type": "code",
   "execution_count": 103,
   "id": "b17b41dc",
   "metadata": {},
   "outputs": [
    {
     "name": "stdout",
     "output_type": "stream",
     "text": [
      "\n",
      "--- Realizamos una compra ---\n",
      "\n",
      " === REALIZAR COMPRA ===\n",
      "Productos disponibles: \n",
      "\n",
      "camisa) - Precio: 20.0 - stock: 10\n",
      "pantalon) - Precio: 30.0 - stock: 1\n",
      "zapatos) - Precio: 50.0 - stock: 2\n",
      "Calcetines) - Precio: 5.0 - stock: 10\n",
      "No hay suficiente stock disponible\n",
      "No hay suficiente stock disponible\n",
      "Agregado al carrito: camisa x8 --160.0€\n",
      "No hay suficiente stock disponible\n",
      "No hay suficiente stock disponible\n",
      "No hay suficiente stock disponible\n"
     ]
    }
   ],
   "source": [
    "print(\"\\n--- Realizamos una compra ---\")\n",
    "realizar_compra()\n",
    "\n"
   ]
  },
  {
   "cell_type": "code",
   "execution_count": 104,
   "id": "c7ab0cce",
   "metadata": {},
   "outputs": [
    {
     "name": "stdout",
     "output_type": "stream",
     "text": [
      "Inventario actual\n",
      "Nombre: camisa\n",
      "Precio: 20.0\n",
      "Cantidad: 2\n",
      "--------------\n",
      "Nombre: pantalon\n",
      "Precio: 30.0\n",
      "Cantidad: 1\n",
      "--------------\n",
      "Nombre: zapatos\n",
      "Precio: 50.0\n",
      "Cantidad: 2\n",
      "--------------\n",
      "Nombre: Calcetines\n",
      "Precio: 5.0\n",
      "Cantidad: 10\n",
      "--------------\n"
     ]
    }
   ],
   "source": [
    "ver_inventario()"
   ]
  },
  {
   "cell_type": "code",
   "execution_count": null,
   "id": "ced9c897",
   "metadata": {},
   "outputs": [],
   "source": []
  }
 ],
 "metadata": {
  "kernelspec": {
   "display_name": "Python 3",
   "language": "python",
   "name": "python3"
  },
  "language_info": {
   "codemirror_mode": {
    "name": "ipython",
    "version": 3
   },
   "file_extension": ".py",
   "mimetype": "text/x-python",
   "name": "python",
   "nbconvert_exporter": "python",
   "pygments_lexer": "ipython3",
   "version": "3.13.7"
  }
 },
 "nbformat": 4,
 "nbformat_minor": 5
}
